{
 "cells": [
  {
   "cell_type": "code",
   "execution_count": 1,
   "metadata": {},
   "outputs": [],
   "source": [
    "import pyrealsense2 as rs\n",
    "import numpy as np\n",
    "import pandas as pd\n",
    "from matplotlib import pyplot as plt\n",
    "import matplotlib.animation as animation\n",
    "import time\n",
    "%matplotlib inline"
   ]
  },
  {
   "cell_type": "code",
   "execution_count": 2,
   "metadata": {},
   "outputs": [],
   "source": [
    "def load_stream_frames(n_frames, resolution=(640, 480)):\n",
    "    depth_frames = []\n",
    "    \n",
    "    w, h = resolution\n",
    "    \n",
    "    pipeline = rs.pipeline()\n",
    "    config = rs.config()\n",
    "    config.enable_stream(rs.stream.depth, w, h, rs.format.z16,  30)\n",
    "\n",
    "    # Start streaming\n",
    "    pipeline.start(config)\n",
    "    \n",
    "    try:\n",
    "        for i in range(n_frames):\n",
    "\n",
    "            # Wait for a coherent pair of frames: depth and color\n",
    "            frames = pipeline.wait_for_frames()\n",
    "            depth_frame = frames.get_depth_frame()\n",
    "            if not depth_frame:\n",
    "                continue\n",
    "                \n",
    "            depth_frames.append(depth_frame)\n",
    "            \n",
    "    finally:\n",
    "        # Stop streaming\n",
    "        pipeline.stop()\n",
    "    return depth_frames"
   ]
  },
  {
   "cell_type": "code",
   "execution_count": 3,
   "metadata": {},
   "outputs": [],
   "source": [
    "def _mean_time_in_apply_filter(filter_, seq):\n",
    "    times = np.zeros(len(seq))\n",
    "    for i, frame in enumerate(seq):\n",
    "        start_time = time.time()\n",
    "        filter_.process(frame)\n",
    "        end_time = time.time()\n",
    "        times[i] = end_time - start_time\n",
    "    return times.mean() \n",
    "        \n",
    "def calculate_times(seq, filters):\n",
    "    times = np.zeros(len(filters), dtype=float)\n",
    "    \n",
    "    for i, filter_ in enumerate(filters):\n",
    "        times[i] = _mean_time_in_apply_filter(filter_, seq)\n",
    "    \n",
    "    return times"
   ]
  },
  {
   "cell_type": "markdown",
   "metadata": {},
   "source": [
    "---"
   ]
  },
  {
   "cell_type": "code",
   "execution_count": 7,
   "metadata": {},
   "outputs": [],
   "source": [
    "# DATA WITH DIFERENTS RESOLUTIONS\n",
    "\n",
    "depth_low_resolution =  load_stream_frames(15,  (640, 480))\n",
    "depth_mid_resolution =  load_stream_frames(15,  (848, 480))\n",
    "depth_high_resolution = load_stream_frames(15, (1280, 720))"
   ]
  },
  {
   "cell_type": "code",
   "execution_count": 8,
   "metadata": {},
   "outputs": [],
   "source": [
    "# FILTERS \n",
    "\n",
    "dec_filter =  rs.decimation_filter ()  # Decimation - reduces depth frame density\n",
    "disp_filter = rs.disparity_transform() # Disparity\n",
    "spat_filter = rs.spatial_filter()      # Spatial - edge-preserving spatial smoothing\n",
    "temp_filter = rs.temporal_filter()     # Temporal - reduces temporal noise\n",
    "\n",
    "filters = [dec_filter, disp_filter, spat_filter, temp_filter]"
   ]
  },
  {
   "cell_type": "code",
   "execution_count": 9,
   "metadata": {},
   "outputs": [],
   "source": [
    "# time in ms.\n",
    "t_low =  calculate_times(depth_low_resolution, filters)  \n",
    "t_mid =  calculate_times(depth_mid_resolution, filters)  \n",
    "t_high = calculate_times(depth_high_resolution, filters) "
   ]
  },
  {
   "cell_type": "code",
   "execution_count": 28,
   "metadata": {
    "scrolled": true
   },
   "outputs": [
    {
     "data": {
      "text/html": [
       "<div>\n",
       "<style scoped>\n",
       "    .dataframe tbody tr th:only-of-type {\n",
       "        vertical-align: middle;\n",
       "    }\n",
       "\n",
       "    .dataframe tbody tr th {\n",
       "        vertical-align: top;\n",
       "    }\n",
       "\n",
       "    .dataframe thead th {\n",
       "        text-align: right;\n",
       "    }\n",
       "</style>\n",
       "<table border=\"1\" class=\"dataframe\">\n",
       "  <thead>\n",
       "    <tr style=\"text-align: right;\">\n",
       "      <th></th>\n",
       "      <th>Decimation</th>\n",
       "      <th>Disparity</th>\n",
       "      <th>Spatial</th>\n",
       "      <th>Temporal</th>\n",
       "    </tr>\n",
       "  </thead>\n",
       "  <tbody>\n",
       "    <tr>\n",
       "      <th>640 x480</th>\n",
       "      <td>1.128658</td>\n",
       "      <td>0.013733</td>\n",
       "      <td>12.827746</td>\n",
       "      <td>0.996081</td>\n",
       "    </tr>\n",
       "    <tr>\n",
       "      <th>848x480</th>\n",
       "      <td>0.809352</td>\n",
       "      <td>0.007757</td>\n",
       "      <td>8.638350</td>\n",
       "      <td>0.865364</td>\n",
       "    </tr>\n",
       "    <tr>\n",
       "      <th>1280x720</th>\n",
       "      <td>2.554226</td>\n",
       "      <td>0.007900</td>\n",
       "      <td>40.328725</td>\n",
       "      <td>3.157425</td>\n",
       "    </tr>\n",
       "  </tbody>\n",
       "</table>\n",
       "</div>"
      ],
      "text/plain": [
       "          Decimation  Disparity    Spatial  Temporal\n",
       "640 x480    1.128658   0.013733  12.827746  0.996081\n",
       "848x480     0.809352   0.007757   8.638350  0.865364\n",
       "1280x720    2.554226   0.007900  40.328725  3.157425"
      ]
     },
     "execution_count": 28,
     "metadata": {},
     "output_type": "execute_result"
    }
   ],
   "source": [
    "pd.DataFrame(np.vstack((t_low, t_mid, t_high)) /1e-3 ,\n",
    "             index=['640 x480', '848x480', '1280x720'], \n",
    "             columns=['Decimation', 'Disparity', 'Spatial', 'Temporal'])"
   ]
  },
  {
   "cell_type": "markdown",
   "metadata": {},
   "source": [
    "*Time in ms* \n",
    "\n",
    "Tested on Linux 16.04. Hardware:\n",
    "* CPU: i7-6700HQ\n",
    "* RAM: 8 GB\n",
    "* GPU: GTX 960M"
   ]
  }
 ],
 "metadata": {
  "kernelspec": {
   "display_name": "realsense2",
   "language": "python",
   "name": "realsense2"
  }
 },
 "nbformat": 4,
 "nbformat_minor": 2
}
