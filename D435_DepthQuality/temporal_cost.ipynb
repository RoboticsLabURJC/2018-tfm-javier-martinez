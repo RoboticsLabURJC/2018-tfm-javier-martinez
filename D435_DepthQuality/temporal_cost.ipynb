{
 "cells": [
  {
   "cell_type": "code",
   "execution_count": 1,
   "metadata": {
    "collapsed": true
   },
   "outputs": [],
   "source": [
    "import pyrealsense2 as rs\n",
    "import numpy as np\n",
    "import pandas as pd\n",
    "from matplotlib import pyplot as plt\n",
    "import matplotlib.animation as animation\n",
    "import time\n",
    "%matplotlib inline"
   ]
  },
  {
   "cell_type": "code",
   "execution_count": 2,
   "metadata": {
    "collapsed": true
   },
   "outputs": [],
   "source": [
    "def load_stream_frames(n_frames, resolution=(640, 480)):\n",
    "    depth_frames = []\n",
    "    \n",
    "    w, h = resolution\n",
    "    \n",
    "    pipeline = rs.pipeline()\n",
    "    config = rs.config()\n",
    "    config.enable_stream(rs.stream.depth, w, h, rs.format.z16,  30)\n",
    "\n",
    "    # Start streaming\n",
    "    pipeline.start(config)\n",
    "    \n",
    "    try:\n",
    "        for i in range(n_frames):\n",
    "\n",
    "            # Wait for a coherent pair of frames: depth and color\n",
    "            frames = pipeline.wait_for_frames()\n",
    "            depth_frame = frames.get_depth_frame()\n",
    "            if not depth_frame:\n",
    "                continue\n",
    "                \n",
    "            depth_frames.append(depth_frame)\n",
    "            \n",
    "    finally:\n",
    "        # Stop streaming\n",
    "        pipeline.stop()\n",
    "    return depth_frames"
   ]
  },
  {
   "cell_type": "code",
   "execution_count": 3,
   "metadata": {
    "collapsed": true
   },
   "outputs": [],
   "source": [
    "def _mean_time_in_apply_filter(filter_, seq):\n",
    "    times = np.zeros(len(seq))\n",
    "    for i, frame in enumerate(seq):\n",
    "        start_time = time.time()\n",
    "        filter_.process(frame)\n",
    "        end_time = time.time()\n",
    "        times[i] = end_time - start_time\n",
    "    return times.mean() \n",
    "        \n",
    "def calculate_times(seq, filters):\n",
    "    times = np.zeros(len(filters), dtype=float)\n",
    "    \n",
    "    for i, filter_ in enumerate(filters):\n",
    "        times[i] = _mean_time_in_apply_filter(filter_, seq)\n",
    "    \n",
    "    return times"
   ]
  },
  {
   "cell_type": "markdown",
   "metadata": {},
   "source": [
    "---"
   ]
  },
  {
   "cell_type": "code",
   "execution_count": 4,
   "metadata": {},
   "outputs": [],
   "source": [
    "# DATA WITH DIFERENTS RESOLUTIONS\n",
    "\n",
    "depth_low_resolution =  load_stream_frames(15,  (640, 480))\n",
    "depth_mid_resolution =  load_stream_frames(15,  (848, 480))\n",
    "depth_high_resolution = load_stream_frames(15, (1280, 720))"
   ]
  },
  {
   "cell_type": "code",
   "execution_count": 5,
   "metadata": {
    "collapsed": true
   },
   "outputs": [],
   "source": [
    "# FILTERS \n",
    "\n",
    "dec_filter =  rs.decimation_filter ()  # Decimation - reduces depth frame density\n",
    "disp_filter = rs.disparity_transform() # Disparity\n",
    "spat_filter = rs.spatial_filter()      # Spatial - edge-preserving spatial smoothing\n",
    "temp_filter = rs.temporal_filter()     # Temporal - reduces temporal noise\n",
    "\n",
    "filters = [dec_filter, disp_filter, spat_filter, temp_filter]"
   ]
  },
  {
   "cell_type": "code",
   "execution_count": 6,
   "metadata": {},
   "outputs": [],
   "source": [
    "# time in ms.\n",
    "t_low =  calculate_times(depth_low_resolution, filters)  \n",
    "t_mid =  calculate_times(depth_mid_resolution, filters)  \n",
    "t_high = calculate_times(depth_high_resolution, filters) "
   ]
  },
  {
   "cell_type": "code",
   "execution_count": 7,
   "metadata": {
    "scrolled": true
   },
   "outputs": [
    {
     "data": {
      "text/html": [
       "<div>\n",
       "<style scoped>\n",
       "    .dataframe tbody tr th:only-of-type {\n",
       "        vertical-align: middle;\n",
       "    }\n",
       "\n",
       "    .dataframe tbody tr th {\n",
       "        vertical-align: top;\n",
       "    }\n",
       "\n",
       "    .dataframe thead th {\n",
       "        text-align: right;\n",
       "    }\n",
       "</style>\n",
       "<table border=\"1\" class=\"dataframe\">\n",
       "  <thead>\n",
       "    <tr style=\"text-align: right;\">\n",
       "      <th></th>\n",
       "      <th>Decimation</th>\n",
       "      <th>Disparity</th>\n",
       "      <th>Spatial</th>\n",
       "      <th>Temporal</th>\n",
       "    </tr>\n",
       "  </thead>\n",
       "  <tbody>\n",
       "    <tr>\n",
       "      <th>Low resolution</th>\n",
       "      <td>0.759125</td>\n",
       "      <td>0.012334</td>\n",
       "      <td>6.909243</td>\n",
       "      <td>0.761302</td>\n",
       "    </tr>\n",
       "    <tr>\n",
       "      <th>Mid resolution</th>\n",
       "      <td>0.821495</td>\n",
       "      <td>0.008392</td>\n",
       "      <td>8.894253</td>\n",
       "      <td>0.916958</td>\n",
       "    </tr>\n",
       "    <tr>\n",
       "      <th>High resolution</th>\n",
       "      <td>1.636855</td>\n",
       "      <td>0.008170</td>\n",
       "      <td>18.153254</td>\n",
       "      <td>2.083588</td>\n",
       "    </tr>\n",
       "  </tbody>\n",
       "</table>\n",
       "</div>"
      ],
      "text/plain": [
       "                 Decimation  Disparity    Spatial  Temporal\n",
       "Low resolution     0.759125   0.012334   6.909243  0.761302\n",
       "Mid resolution     0.821495   0.008392   8.894253  0.916958\n",
       "High resolution    1.636855   0.008170  18.153254  2.083588"
      ]
     },
     "execution_count": 7,
     "metadata": {},
     "output_type": "execute_result"
    }
   ],
   "source": [
    "pd.DataFrame(np.vstack((t_low, t_mid, t_high)) /1e-3 ,\n",
    "             index=['Low resolution', 'Mid resolution', 'High resolution'], \n",
    "             columns=['Decimation', 'Disparity', 'Spatial', 'Temporal'])"
   ]
  },
  {
   "cell_type": "markdown",
   "metadata": {},
   "source": [
    "*Time in ms*"
   ]
  }
 ],
 "metadata": {
  "kernelspec": {
   "display_name": "realsense2",
   "language": "python",
   "name": "realsense2"
  },
  "language_info": {
   "codemirror_mode": {
    "name": "ipython",
    "version": 3
   },
   "file_extension": ".py",
   "mimetype": "text/x-python",
   "name": "python",
   "nbconvert_exporter": "python",
   "pygments_lexer": "ipython3",
   "version": "3.6.8"
  }
 },
 "nbformat": 4,
 "nbformat_minor": 2
}
