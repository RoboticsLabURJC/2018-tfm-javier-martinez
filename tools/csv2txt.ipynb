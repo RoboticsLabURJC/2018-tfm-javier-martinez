{
 "cells": [
  {
   "cell_type": "code",
   "execution_count": 1,
   "metadata": {},
   "outputs": [],
   "source": [
    "import numpy as np"
   ]
  },
  {
   "cell_type": "code",
   "execution_count": 2,
   "metadata": {},
   "outputs": [],
   "source": [
    "def csv2txt(f_csv, f_txt):\n",
    "    csv_data = np.genfromtxt(csv_filename, delimiter=',', \n",
    "                             names=['timestamp', \n",
    "                                    'p_x', 'p_y', 'p_z', \n",
    "                                    'q_x', 'q_y', 'q_z', 'q_w'])\n",
    "    with open(txt_filename, 'a') as f:\n",
    "        #header = \"# timestamp, px, py, pz, qx, qy, qz, qw\\n\" \n",
    "        #f.write(header)\n",
    "        for row in range(csv_data['timestamp'].shape[0]):\n",
    "            output  = f\"{csv_data['timestamp'][row]} \"\n",
    "            output += f\"{csv_data['p_x'][row]} \"\n",
    "            output += f\"{csv_data['p_y'][row]} \"\n",
    "            output += f\"{csv_data['p_z'][row]} \"\n",
    "            output += f\"{csv_data['q_x'][row]} \"\n",
    "            output += f\"{csv_data['q_y'][row]} \"\n",
    "            output += f\"{csv_data['q_z'][row]} \"\n",
    "            output += f\"{csv_data['q_w'][row]}\\n\"\n",
    "            f.write(output)"
   ]
  },
  {
   "cell_type": "code",
   "execution_count": null,
   "metadata": {},
   "outputs": [],
   "source": [
    "def data2txt(f_csv, f_txt, factor=10):\n",
    "    csv_data = np.genfromtxt(csv_filename, delimiter=',', \n",
    "                             names=['timestamp', \n",
    "                                    'p_x', 'p_y', 'p_z', \n",
    "                                    'q_x', 'q_y', 'q_z', 'q_w'])\n",
    "    \n",
    "    with open(txt_filename, 'a') as f:\n",
    "        #header = \"# timestamp, px, py, pz, qx, qy, qz, qw\\n\" \n",
    "        #f.write(header)\n",
    "        for row in range(csv_data['timestamp'].shape[0]):\n",
    "            output  = f\"{csv_data['timestamp'][row]} \"\n",
    "            output += f\"{csv_data['p_x'][row]} \"\n",
    "            output += f\"{csv_data['p_y'][row]} \"\n",
    "            output += f\"{csv_data['p_z'][row]} \"\n",
    "            output += f\"{csv_data['q_x'][row]} \"\n",
    "            output += f\"{csv_data['q_y'][row]} \"\n",
    "            output += f\"{csv_data['q_z'][row]} \"\n",
    "            output += f\"{csv_data['q_w'][row]}\\n\"\n",
    "            f.write(output)"
   ]
  },
  {
   "cell_type": "markdown",
   "metadata": {},
   "source": [
    "---"
   ]
  },
  {
   "cell_type": "code",
   "execution_count": 13,
   "metadata": {},
   "outputs": [],
   "source": [
    "csv_filename = './data/EuRoC_V1_02/gt.csv'\n",
    "txt_filename = './data/EuRoC_V1_02/gt.txt'\n",
    "\n",
    "csv2txt(csv_filename, txt_filename)"
   ]
  },
  {
   "cell_type": "code",
   "execution_count": 28,
   "metadata": {},
   "outputs": [],
   "source": [
    "csv_data = np.genfromtxt(csv_filename, delimiter=',', \n",
    "                             names=['timestamp', \n",
    "                                    'p_x', 'p_y', 'p_z', \n",
    "                                    'q_x', 'q_y', 'q_z', 'q_w'])\n",
    "\n",
    "factor = 10\n",
    "n_examples = int(csv_data['timestamp'][:].shape[0])\n",
    "\n",
    "p_x = [np.mean(csv_data['p_x'][i:i+factor]) for i in range(0, n_examples, factor)]\n",
    "\n",
    "p_x = [np.mean(csv_data['p_x'][i:i+factor]) for i in range(0, n_examples, factor)]\n",
    "p_x = [np.mean(csv_data['p_x'][i:i+factor]) for i in range(0, n_examples, factor)]\n",
    "p_x = [np.mean(csv_data['p_x'][i:i+factor]) for i in range(0, n_examples, factor)]\n",
    "\n",
    "p_x = [np.mean(csv_data['p_x'][i:i+factor]) for i in range(0, n_examples, factor)]\n",
    "p_x = [np.mean(csv_data['p_x'][i:i+factor]) for i in range(0, n_examples, factor)]\n",
    "p_x = [np.mean(csv_data['p_x'][i:i+factor]) for i in range(0, n_examples, factor)]\n",
    "p_x = [np.mean(csv_data['p_x'][i:i+factor]) for i in range(0, n_examples, factor)]\n",
    "\n"
   ]
  }
 ],
 "metadata": {
  "kernelspec": {
   "display_name": "Python 3",
   "language": "python",
   "name": "python3"
  },
  "language_info": {
   "codemirror_mode": {
    "name": "ipython",
    "version": 3
   },
   "file_extension": ".py",
   "mimetype": "text/x-python",
   "name": "python",
   "nbconvert_exporter": "python",
   "pygments_lexer": "ipython3",
   "version": "3.7.2"
  }
 },
 "nbformat": 4,
 "nbformat_minor": 2
}
